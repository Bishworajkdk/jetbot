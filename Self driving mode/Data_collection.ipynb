{
  "nbformat": 4,
  "nbformat_minor": 0,
  "metadata": {
    "kernelspec": {
      "display_name": "Python 3",
      "language": "python",
      "name": "python3"
    },
    "language_info": {
      "codemirror_mode": {
        "name": "ipython",
        "version": 3
      },
      "file_extension": ".py",
      "mimetype": "text/x-python",
      "name": "python",
      "nbconvert_exporter": "python",
      "pygments_lexer": "ipython3",
      "version": "3.6.8"
    },
    "colab": {
      "name": "Data collection.ipynb",
      "provenance": [],
      "include_colab_link": true
    }
  },
  "cells": [
    {
      "cell_type": "markdown",
      "metadata": {
        "id": "view-in-github",
        "colab_type": "text"
      },
      "source": [
        "<a href=\"https://colab.research.google.com/github/Bishworajkdk/jetbot/blob/master/Data_collection.ipynb\" target=\"_parent\"><img src=\"https://colab.research.google.com/assets/colab-badge.svg\" alt=\"Open In Colab\"/></a>"
      ]
    },
    {
      "cell_type": "code",
      "metadata": {
        "id": "33ztuH3EV_qq",
        "colab_type": "code",
        "colab": {}
      },
      "source": [
        "# IPython libraries be used to diplay and parts\n",
        "import traitlets\n",
        "import ipywidgets.widgets as widgets\n",
        "from IPython.display import display\n",
        "# Camera and servo interface foe Jetbot robot car\n",
        "from jetbot import Robot, Camera, bgr8_to_jpeg\n",
        "# Python base package for image annotations\n",
        "from uuid import uuid1\n",
        "import os\n",
        "import json\n",
        "import glob\n",
        "import datetime\n",
        "import numpy as np\n",
        "import cv2\n",
        "import time\n",
        "from servoserial import ServoSerial\n",
        "import threading\n",
        "# Kill pthread\n",
        "import inspect\n",
        "import ctypes"
      ],
      "execution_count": null,
      "outputs": []
    },
    {
      "cell_type": "code",
      "metadata": {
        "id": "1nEJ8IrlV_qt",
        "colab_type": "code",
        "colab": {}
      },
      "source": [
        "camera = Camera()\n",
        "\n",
        "image_widget = widgets.Image(format='jpeg', width=224, height=224)\n",
        "target_widget = widgets.Image(format='jpeg', width=224, height=224)\n",
        "\n",
        "x_slider = widgets.FloatSlider(min=-1.0, max=1.0, step=0.001, description='x')\n",
        "y_slider = widgets.FloatSlider(min=-1.0, max=1.0, step=0.001, description='y')\n",
        "\n",
        "def display_xy(camera_image):\n",
        "    image = np.copy(camera_image)\n",
        "    x = x_slider.value\n",
        "    y = y_slider.value\n",
        "    x = int(x * 224 / 2 + 112)\n",
        "    y = int(y * 224 / 2 + 112)\n",
        "    image = cv2.circle(image, (x, y), 8, (0, 255, 0), 3)\n",
        "    image = cv2.circle(image, (112, 224), 8, (0, 0,255), 3)\n",
        "    image = cv2.line(image, (x,y), (112,224), (255,0,0), 3)\n",
        "    jpeg_image = bgr8_to_jpeg(image)\n",
        "    return jpeg_image\n",
        "\n",
        "time.sleep(1)\n",
        "traitlets.dlink((camera, 'value'), (image_widget, 'value'), transform=bgr8_to_jpeg)\n",
        "traitlets.dlink((camera, 'value'), (target_widget, 'value'), transform=display_xy)\n",
        "\n",
        "display(widgets.HBox([image_widget, target_widget]), x_slider, y_slider)"
      ],
      "execution_count": null,
      "outputs": []
    },
    {
      "cell_type": "code",
      "metadata": {
        "id": "ojBJgy8vV_qx",
        "colab_type": "code",
        "colab": {}
      },
      "source": [
        "controller = widgets.Controller(index=0)\n",
        "robot = Robot()\n",
        "display(controller)"
      ],
      "execution_count": null,
      "outputs": []
    },
    {
      "cell_type": "code",
      "metadata": {
        "id": "eWtk6sYxV_q1",
        "colab_type": "code",
        "colab": {}
      },
      "source": [
        "widgets.jsdlink((controller.axes[2], 'value'), (x_slider, 'value'))\n",
        "widgets.jsdlink((controller.axes[3], 'value'), (y_slider, 'value'))"
      ],
      "execution_count": null,
      "outputs": []
    },
    {
      "cell_type": "code",
      "metadata": {
        "id": "jiOS_z1wV_q4",
        "colab_type": "code",
        "colab": {}
      },
      "source": [
        "DATASET_DIR = 'dataset_xy'\n",
        "\n",
        "# we have this \"try/except\" statement because these next functions can throw an error if the directories exist already\n",
        "try:\n",
        "    os.makedirs(DATASET_DIR)\n",
        "except FileExistsError:\n",
        "    print('Directories not created becasue they already exist')\n",
        "\n",
        "for b in controller.buttons:\n",
        "    b.unobserve_all()\n",
        "\n",
        "count_widget = widgets.IntText(description='count', value=len(glob.glob(os.path.join(DATASET_DIR, '*.jpg'))))\n",
        "\n",
        "def xy_uuid(x, y):\n",
        "    return 'xy_%03d_%03d_%s' % (x * 50 + 50, y * 50 + 50, uuid1())\n",
        "\n",
        "def save_snapshot(change):\n",
        "    if change['new']:\n",
        "        uuid = xy_uuid(x_slider.value, y_slider.value)\n",
        "        image_path = os.path.join(DATASET_DIR, uuid + '.jpg')\n",
        "        with open(image_path, 'wb') as f:\n",
        "            f.write(image_widget.value)\n",
        "        count_widget.value = len(glob.glob(os.path.join(DATASET_DIR, '*.jpg')))\n",
        "\n",
        "# Jetbot Yahboom Handle L side No.1 key save data\n",
        "controller.buttons[4].observe(save_snapshot, names='value')\n",
        "\n",
        "display(widgets.VBox([\n",
        "    target_widget,\n",
        "    count_widget\n",
        "]))"
      ],
      "execution_count": null,
      "outputs": []
    },
    {
      "cell_type": "code",
      "metadata": {
        "id": "zQwfAReBV_q8",
        "colab_type": "code",
        "colab": {}
      },
      "source": [
        "def jetbot_motion():\n",
        "    while 1:\n",
        "        #Robot car left and right DC motor\n",
        "        if controller.axes[1].value <= 0.1:\n",
        "            if (controller.axes[0].value <= 0.1 and controller.axes[0].value >= -0.1 \n",
        "                and controller.axes[1].value <= 0.1 and controller.axes[1].value >= -0.1):\n",
        "                robot.stop()\n",
        "            else:\n",
        "                robot.set_motors(-controller.axes[1].value + controller.axes[0].value, -controller.axes[1].value - controller.axes[0].value)\n",
        "            \n",
        "            time.sleep(0.01)\n",
        "        else:\n",
        "            robot.set_motors(-controller.axes[1].value - controller.axes[0].value, -controller.axes[1].value + controller.axes[0].value)\n",
        "            time.sleep(0.01)\n",
        "          #Handle control code---2(Xbox360 Handle)\n",
        "#         if controller.axes[1].value <= 0:\n",
        "#             robot.set_motors(-controller.axes[1].value + controller.axes[0].value, -controller.axes[1].value - controller.axes[0].value)\n",
        "#             time.sleep(0.01)\n",
        "#         else:\n",
        "#             robot.set_motors(-controller.axes[1].value - controller.axes[0].value, -controller.axes[1].value + controller.axes[0].value)\n",
        "#             time.sleep(0.01)"
      ],
      "execution_count": null,
      "outputs": []
    },
    {
      "cell_type": "code",
      "metadata": {
        "id": "oyBjZ_c3V_rA",
        "colab_type": "code",
        "colab": {}
      },
      "source": [
        "thread1 = threading.Thread(target=jetbot_motion)\n",
        "thread1.setDaemon(True)\n",
        "thread1.start()"
      ],
      "execution_count": null,
      "outputs": []
    },
    {
      "cell_type": "code",
      "metadata": {
        "id": "yijHuNJ9V_rC",
        "colab_type": "code",
        "colab": {}
      },
      "source": [
        "def _async_raise(tid, exctype):\n",
        "    \"\"\"raises the exception, performs cleanup if needed\"\"\"\n",
        "    tid = ctypes.c_long(tid)\n",
        "    if not inspect.isclass(exctype):\n",
        "        exctype = type(exctype)\n",
        "    res = ctypes.pythonapi.PyThreadState_SetAsyncExc(tid, ctypes.py_object(exctype))\n",
        "    if res == 0:\n",
        "        raise ValueError(\"invalid thread id\") \n",
        "    elif res != 1:\n",
        "        # \"\"\"if it returns a number greater than one, you're in trouble,\n",
        "        # and you should call it again with exc=NULL to revert the effect\"\"\"\n",
        "        ctypes.pythonapi.PyThreadState_SetAsyncExc(tid, None)\n",
        "        \n",
        "\n",
        "def stop_thread(thread):\n",
        "    _async_raise(thread.ident, SystemExit)"
      ],
      "execution_count": null,
      "outputs": []
    },
    {
      "cell_type": "code",
      "metadata": {
        "id": "QDHT06SCV_rG",
        "colab_type": "code",
        "colab": {}
      },
      "source": [
        "servo_device = ServoSerial() \n",
        "def camservoInitFunction():\n",
        "    global leftrightpulse, updownpulse\n",
        "    leftrightpulse = 2048\n",
        "    updownpulse = 2048\n",
        "    servo_device.Servo_serial_control(1, 2048)\n",
        "    time.sleep(0.1)\n",
        "    servo_device.Servo_serial_control(2, 1300)"
      ],
      "execution_count": null,
      "outputs": []
    },
    {
      "cell_type": "code",
      "metadata": {
        "id": "cXOXHFXSV_rI",
        "colab_type": "code",
        "colab": {}
      },
      "source": [
        "camservoInitFunction()"
      ],
      "execution_count": null,
      "outputs": []
    },
    {
      "cell_type": "code",
      "metadata": {
        "id": "bWW42U7AV_rM",
        "colab_type": "code",
        "colab": {}
      },
      "source": [
        "stop_thread(thread1)"
      ],
      "execution_count": null,
      "outputs": []
    },
    {
      "cell_type": "code",
      "metadata": {
        "id": "O9U0kxfiV_rR",
        "colab_type": "code",
        "colab": {}
      },
      "source": [
        "def timestr():\n",
        "    return str(datetime.datetime.now().strftime('%Y-%m-%d_%H-%M-%S'))\n",
        "\n",
        "!zip -r -q road_following_{DATASET_DIR}_{timestr()}.zip {DATASET_DIR}"
      ],
      "execution_count": null,
      "outputs": []
    }
  ]
}