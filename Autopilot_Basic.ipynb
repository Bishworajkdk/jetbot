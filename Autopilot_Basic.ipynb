{
  "nbformat": 4,
  "nbformat_minor": 0,
  "metadata": {
    "kernelspec": {
      "display_name": "Python 3",
      "language": "python",
      "name": "python3"
    },
    "language_info": {
      "codemirror_mode": {
        "name": "ipython",
        "version": 3
      },
      "file_extension": ".py",
      "mimetype": "text/x-python",
      "name": "python",
      "nbconvert_exporter": "python",
      "pygments_lexer": "ipython3",
      "version": "3.6.8"
    },
    "colab": {
      "name": "Autopilot-Basic.ipynb",
      "provenance": [],
      "include_colab_link": true
    }
  },
  "cells": [
    {
      "cell_type": "markdown",
      "metadata": {
        "id": "view-in-github",
        "colab_type": "text"
      },
      "source": [
        "<a href=\"https://colab.research.google.com/github/Bishworajkdk/jetbot/blob/master/Autopilot_Basic.ipynb\" target=\"_parent\"><img src=\"https://colab.research.google.com/assets/colab-badge.svg\" alt=\"Open In Colab\"/></a>"
      ]
    },
    {
      "cell_type": "code",
      "metadata": {
        "id": "uN8Xuk1ZO7BA",
        "colab_type": "code",
        "colab": {}
      },
      "source": [
        "import torchvision\n",
        "import torch\n",
        "\n",
        "model = torchvision.models.resnet18(pretrained=False)\n",
        "model.fc = torch.nn.Linear(512, 2)"
      ],
      "execution_count": null,
      "outputs": []
    },
    {
      "cell_type": "code",
      "metadata": {
        "id": "Vg2eNaHjO7BE",
        "colab_type": "code",
        "colab": {}
      },
      "source": [
        "from servoserial import ServoSerial\n",
        "import threading\n",
        "# Kill thpread\n",
        "import inspect\n",
        "import ctypes\n",
        "import ipywidgets.widgets as widgets\n",
        "from IPython.display import display\n",
        "import time\n",
        "\n",
        "controller = widgets.Controller(index=0)\n",
        "display(controller)"
      ],
      "execution_count": null,
      "outputs": []
    },
    {
      "cell_type": "code",
      "metadata": {
        "id": "uAqoQGjbO7BI",
        "colab_type": "code",
        "colab": {}
      },
      "source": [
        "model.load_state_dict(torch.load('best_steering_model_xy.pth'))"
      ],
      "execution_count": null,
      "outputs": []
    },
    {
      "cell_type": "markdown",
      "metadata": {
        "id": "h6zmu5KNO7BL",
        "colab_type": "text"
      },
      "source": [
        "Because the model weights are on the CPU memory, then the following code is still passed to the GPU device as always."
      ]
    },
    {
      "cell_type": "code",
      "metadata": {
        "id": "mfg-yNAJO7BL",
        "colab_type": "code",
        "colab": {}
      },
      "source": [
        "device = torch.device('cuda')\n",
        "model = model.to(device)\n",
        "model = model.eval().half()"
      ],
      "execution_count": null,
      "outputs": []
    },
    {
      "cell_type": "code",
      "metadata": {
        "id": "ixQ9GMmtO7BO",
        "colab_type": "code",
        "colab": {}
      },
      "source": [
        "import torchvision.transforms as transforms\n",
        "import torch.nn.functional as F\n",
        "import cv2\n",
        "import PIL.Image\n",
        "import numpy as np\n",
        "\n",
        "mean = torch.Tensor([0.485, 0.456, 0.406]).cuda().half()\n",
        "std = torch.Tensor([0.229, 0.224, 0.225]).cuda().half()\n",
        "\n",
        "def preprocess(image):\n",
        "    image = PIL.Image.fromarray(image)\n",
        "    image = transforms.functional.to_tensor(image).to(device).half()\n",
        "    image.sub_(mean[:, None, None]).div_(std[:, None, None])\n",
        "    return image[None, ...]"
      ],
      "execution_count": null,
      "outputs": []
    },
    {
      "cell_type": "code",
      "metadata": {
        "id": "ojb73cy0O7BS",
        "colab_type": "code",
        "colab": {}
      },
      "source": [
        "from IPython.display import display\n",
        "import ipywidgets\n",
        "import traitlets\n",
        "from jetbot import Camera, bgr8_to_jpeg\n",
        "from servoserial import ServoSerial\n",
        "\n",
        "camera = Camera()\n",
        "servo_device = ServoSerial() \n",
        "\n",
        "image_widget = ipywidgets.Image()\n",
        "\n",
        "traitlets.dlink((camera, 'value'), (image_widget, 'value'), transform=bgr8_to_jpeg)\n",
        "\n",
        "display(image_widget)\n",
        "\n",
        "def camservoInitFunction():\n",
        "    global leftrightpulse, updownpulse\n",
        "    leftrightpulse = 2048\n",
        "    updownpulse = 2048\n",
        "    servo_device.Servo_serial_control(1, 2048)\n",
        "    time.sleep(0.1)\n",
        "    servo_device.Servo_serial_control(2, 1300)"
      ],
      "execution_count": null,
      "outputs": []
    },
    {
      "cell_type": "code",
      "metadata": {
        "id": "sCpMB5iAO7BW",
        "colab_type": "code",
        "colab": {}
      },
      "source": [
        "from jetbot import Robot\n",
        "\n",
        "robot = Robot()"
      ],
      "execution_count": null,
      "outputs": []
    },
    {
      "cell_type": "code",
      "metadata": {
        "id": "E5KlVFZmO7BZ",
        "colab_type": "code",
        "colab": {}
      },
      "source": [
        "speed_gain_slider = ipywidgets.FloatSlider(min=0.0, max=1.0, step=0.01, value=0.75,description='speed gain')\n",
        "steering_gain_slider = ipywidgets.FloatSlider(min=0.0, max=1.0, step=0.01, value=0.33, description='steering gain')\n",
        "steering_dgain_slider = ipywidgets.FloatSlider(min=0.0, max=0.5, step=0.001, value=0.12, description='steering kd')\n",
        "steering_bias_slider = ipywidgets.FloatSlider(min=-0.3, max=0.3, step=0.01, value=0, description='steering bias')\n",
        "\n",
        "display(speed_gain_slider, steering_gain_slider, steering_dgain_slider, steering_bias_slider)"
      ],
      "execution_count": null,
      "outputs": []
    },
    {
      "cell_type": "code",
      "metadata": {
        "id": "NWwecx8NO7Bc",
        "colab_type": "code",
        "colab": {}
      },
      "source": [
        "x_slider = ipywidgets.FloatSlider(min=-1.0, max=1.0, description='x')\n",
        "y_slider = ipywidgets.FloatSlider(min=0, max=1.0, orientation='vertical', description='y')\n",
        "steering_slider = ipywidgets.FloatSlider(min=-1.0, max=1.0, description='steering')\n",
        "speed_slider = ipywidgets.FloatSlider(min=0, max=1.0, orientation='vertical', description='speed')\n",
        "\n",
        "display(ipywidgets.HBox([y_slider, speed_slider]))\n",
        "display(x_slider, steering_slider)"
      ],
      "execution_count": null,
      "outputs": []
    },
    {
      "cell_type": "code",
      "metadata": {
        "id": "qWbtZsRLO7Bf",
        "colab_type": "code",
        "colab": {}
      },
      "source": [
        "angle = 0.0\n",
        "angle_last = 0.0\n",
        "\n",
        "def execute(change):\n",
        "    global angle, angle_last\n",
        "    image = change['new']\n",
        "    xy = model(preprocess(image)).detach().float().cpu().numpy().flatten()\n",
        "    x = xy[0]\n",
        "    y = (0.5 - xy[1]) / 2.0\n",
        "    \n",
        "    x_slider.value = x\n",
        "    y_slider.value = y\n",
        "    \n",
        "    speed_slider.value = speed_gain_slider.value\n",
        "    \n",
        "    angle = np.arctan2(x, y)\n",
        "    pid = angle * steering_gain_slider.value + (angle - angle_last) * steering_dgain_slider.value\n",
        "    angle_last = angle\n",
        "\n",
        "    steering_slider.value = pid + steering_bias_slider.value\n",
        "    \n",
        "    #PID+ Base speed + Gain\n",
        "    robot.left_motor.value = max(min(speed_slider.value + steering_slider.value, 1.0), 0.0)\n",
        "    robot.right_motor.value = max(min(speed_slider.value - steering_slider.value, 1.0), 0.0)\n",
        "    \n",
        "execute({'new': camera.value})"
      ],
      "execution_count": null,
      "outputs": []
    },
    {
      "cell_type": "code",
      "metadata": {
        "id": "2m2GFLOaO7Bh",
        "colab_type": "code",
        "colab": {}
      },
      "source": [
        "camservoInitFunction()\n",
        "camera.observe(execute, names='value')"
      ],
      "execution_count": null,
      "outputs": []
    },
    {
      "cell_type": "code",
      "metadata": {
        "id": "U5hQSCu_O7Bl",
        "colab_type": "code",
        "colab": {}
      },
      "source": [
        "camera.unobserve(execute, names='value')\n",
        "time.sleep(0.1)\n",
        "robot.stop()"
      ],
      "execution_count": null,
      "outputs": []
    },
    {
      "cell_type": "code",
      "metadata": {
        "id": "Tdn-8TC3O7Bo",
        "colab_type": "code",
        "colab": {}
      },
      "source": [
        "robot.stop()"
      ],
      "execution_count": null,
      "outputs": []
    },
    {
      "cell_type": "code",
      "metadata": {
        "id": "7Gaj0O2HO7Bq",
        "colab_type": "code",
        "colab": {}
      },
      "source": [
        "def jetbot_motion():\n",
        "    count1 = count2 = count3 = count4 =  count5 = 0\n",
        "    while 1:\n",
        "        #Robot car left and right DC motor\n",
        "        if controller.axes[1].value <= 0.1:\n",
        "            if (controller.axes[0].value <= 0.1 and controller.axes[0].value >= -0.1 \n",
        "                and controller.axes[1].value <= 0.1 and controller.axes[1].value >= -0.1):\n",
        "                robot.stop()\n",
        "            else:\n",
        "                robot.set_motors(-controller.axes[1].value + controller.axes[0].value, -controller.axes[1].value - controller.axes[0].value)\n",
        "            \n",
        "            time.sleep(0.01)\n",
        "        else:\n",
        "            robot.set_motors(-controller.axes[1].value - controller.axes[0].value, -controller.axes[1].value + controller.axes[0].value)\n",
        "            time.sleep(0.01)\n",
        "          #Handle control code---2(Xbox360 Handle)\n",
        "#         if controller.axes[1].value <= 0:\n",
        "#             robot.set_motors(-controller.axes[1].value + controller.axes[0].value, -controller.axes[1].value - controller.axes[0].value)\n",
        "#             time.sleep(0.01)\n",
        "#         else:\n",
        "#             robot.set_motors(-controller.axes[1].value - controller.axes[0].value, -controller.axes[1].value + controller.axes[0].value)\n",
        "#             time.sleep(0.01)\n",
        "            \n",
        "# thread1 = threading.Thread(target=jetbot_motion)\n",
        "# thread1.setDaemon(False)\n",
        "# thread1.start()\n",
        "\n",
        "def _async_raise(tid, exctype):\n",
        "    \"\"\"raises the exception, performs cleanup if needed\"\"\"\n",
        "    tid = ctypes.c_long(tid)\n",
        "    if not inspect.isclass(exctype):\n",
        "        exctype = type(exctype)\n",
        "    res = ctypes.pythonapi.PyThreadState_SetAsyncExc(tid, ctypes.py_object(exctype))\n",
        "    if res == 0:\n",
        "        raise ValueError(\"invalid thread id\") \n",
        "    elif res != 1:\n",
        "        # \"\"\"if it returns a number greater than one, you're in trouble,\n",
        "        # and you should call it again with exc=NULL to revert the effect\"\"\"\n",
        "        ctypes.pythonapi.PyThreadState_SetAsyncExc(tid, None)\n",
        "        \n",
        "def stop_thread(thread):\n",
        "    _async_raise(thread.ident, SystemExit)"
      ],
      "execution_count": null,
      "outputs": []
    },
    {
      "cell_type": "code",
      "metadata": {
        "id": "z0_5otHtO7Bs",
        "colab_type": "code",
        "colab": {}
      },
      "source": [
        "thread1 = threading.Thread(target=jetbot_motion)\n",
        "thread1.setDaemon(False)\n",
        "thread1.start()"
      ],
      "execution_count": null,
      "outputs": []
    },
    {
      "cell_type": "code",
      "metadata": {
        "id": "VieaKMiUO7Bv",
        "colab_type": "code",
        "colab": {}
      },
      "source": [
        "stop_thread(thread1)"
      ],
      "execution_count": null,
      "outputs": []
    }
  ]
}