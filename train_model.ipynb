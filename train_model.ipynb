{
  "nbformat": 4,
  "nbformat_minor": 0,
  "metadata": {
    "kernelspec": {
      "display_name": "Python 3",
      "language": "python",
      "name": "python3"
    },
    "language_info": {
      "codemirror_mode": {
        "name": "ipython",
        "version": 3
      },
      "file_extension": ".py",
      "mimetype": "text/x-python",
      "name": "python",
      "nbconvert_exporter": "python",
      "pygments_lexer": "ipython3",
      "version": "3.6.8"
    },
    "colab": {
      "name": "train model.ipynb",
      "provenance": [],
      "collapsed_sections": [],
      "include_colab_link": true
    }
  },
  "cells": [
    {
      "cell_type": "markdown",
      "metadata": {
        "id": "view-in-github",
        "colab_type": "text"
      },
      "source": [
        "<a href=\"https://colab.research.google.com/github/Bishworajkdk/jetbot/blob/master/train_model.ipynb\" target=\"_parent\"><img src=\"https://colab.research.google.com/assets/colab-badge.svg\" alt=\"Open In Colab\"/></a>"
      ]
    },
    {
      "cell_type": "markdown",
      "metadata": {
        "id": "_0CM8t-RXVMA",
        "colab_type": "text"
      },
      "source": [
        "# Autopilot - train model\n",
        "\n",
        "We trained a neural network to get an input image and output a set of x, y values corresponding to a target.\n",
        "We will use the PyTorch deep learning framework to train the ResNet18 neural network structure model to identify road conditions for automatic driving."
      ]
    },
    {
      "cell_type": "code",
      "metadata": {
        "id": "Ky_M8_3OXVMA",
        "colab_type": "code",
        "colab": {}
      },
      "source": [
        "import torch\n",
        "import torch.optim as optim\n",
        "import torch.nn.functional as F\n",
        "import torchvision\n",
        "import torchvision.datasets as datasets\n",
        "import torchvision.models as models\n",
        "import torchvision.transforms as transforms\n",
        "import glob\n",
        "import PIL.Image\n",
        "import os\n",
        "import numpy as np"
      ],
      "execution_count": null,
      "outputs": []
    },
    {
      "cell_type": "code",
      "metadata": {
        "id": "Tte22ryxXVME",
        "colab_type": "code",
        "colab": {}
      },
      "source": [
        "!unzip -q road_following.zip"
      ],
      "execution_count": null,
      "outputs": []
    },
    {
      "cell_type": "markdown",
      "metadata": {
        "id": "7WuqiFfCXVMH",
        "colab_type": "text"
      },
      "source": [
        "After unzipping, you will see a folder named ' 'dataset_all ' ' appear in the file browser."
      ]
    },
    {
      "cell_type": "code",
      "metadata": {
        "id": "ZumtImNkXVMJ",
        "colab_type": "code",
        "colab": {}
      },
      "source": [
        "def get_x(path):\n",
        "    \"\"\"Gets the x value from the image filename\"\"\"\n",
        "    return (float(int(path[3:6])) - 50.0) / 50.0\n",
        "\n",
        "def get_y(path):\n",
        "    \"\"\"Gets the y value from the image filename\"\"\"\n",
        "    return (float(int(path[7:10])) - 50.0) / 50.0\n",
        "\n",
        "class XYDataset(torch.utils.data.Dataset):\n",
        "    \n",
        "    def __init__(self, directory, random_hflips=False):\n",
        "        self.directory = directory\n",
        "        self.random_hflips = random_hflips\n",
        "        self.image_paths = glob.glob(os.path.join(self.directory, '*.jpg'))\n",
        "        self.color_jitter = transforms.ColorJitter(0.3, 0.3, 0.3, 0.3)\n",
        "    \n",
        "    def __len__(self):\n",
        "        return len(self.image_paths)\n",
        "    \n",
        "    def __getitem__(self, idx):\n",
        "        image_path = self.image_paths[idx]\n",
        "        \n",
        "        image = PIL.Image.open(image_path)\n",
        "        x = float(get_x(os.path.basename(image_path)))\n",
        "        y = float(get_y(os.path.basename(image_path)))\n",
        "        \n",
        "        if float(np.random.rand(1)) > 0.5:\n",
        "            image = transforms.functional.hflip(image)\n",
        "            x = -x\n",
        "        \n",
        "        image = self.color_jitter(image)\n",
        "        image = transforms.functional.resize(image, (224, 224))\n",
        "        image = transforms.functional.to_tensor(image)\n",
        "        image = image.numpy()[::-1].copy()\n",
        "        image = torch.from_numpy(image)\n",
        "        image = transforms.functional.normalize(image, [0.485, 0.456, 0.406], [0.229, 0.224, 0.225])\n",
        "        \n",
        "        return image, torch.tensor([x, y]).float()\n",
        "    \n",
        "dataset = XYDataset('dataset_xy', random_hflips=False)"
      ],
      "execution_count": null,
      "outputs": []
    },
    {
      "cell_type": "code",
      "metadata": {
        "id": "nMUDMF-vXVMM",
        "colab_type": "code",
        "colab": {}
      },
      "source": [
        "test_percent = 0.1\n",
        "num_test = int(test_percent * len(dataset))\n",
        "train_dataset, test_dataset = torch.utils.data.random_split(dataset, [len(dataset) - num_test, num_test])"
      ],
      "execution_count": null,
      "outputs": []
    },
    {
      "cell_type": "code",
      "metadata": {
        "id": "GgMaNhzeXVMP",
        "colab_type": "code",
        "colab": {}
      },
      "source": [
        "# Train sets\n",
        "train_loader = torch.utils.data.DataLoader(\n",
        "    train_dataset,\n",
        "    batch_size=16,\n",
        "    shuffle=True,\n",
        "    num_workers=4\n",
        ")\n",
        "\n",
        "# Test sets\n",
        "test_loader = torch.utils.data.DataLoader(\n",
        "    test_dataset,\n",
        "    batch_size=16,\n",
        "    shuffle=True,\n",
        "    num_workers=4\n",
        ")"
      ],
      "execution_count": null,
      "outputs": []
    },
    {
      "cell_type": "markdown",
      "metadata": {
        "id": "2_ZOh7teXVMS",
        "colab_type": "text"
      },
      "source": [
        "### Define a neural network model\n",
        "\n",
        "The ResNet-18 model we use is based on PyTorch TorchVision. In the process of “migration learning”, also called “transfer learning”, we had reused a pre-trained model (training millions of images) for one possible \n"
      ]
    },
    {
      "cell_type": "code",
      "metadata": {
        "id": "z-pxE8J4XVMS",
        "colab_type": "code",
        "colab": {}
      },
      "source": [
        "model = models.resnet18(pretrained=True)"
      ],
      "execution_count": null,
      "outputs": []
    },
    {
      "cell_type": "markdown",
      "metadata": {
        "id": "b-OSbLKsXVMV",
        "colab_type": "text"
      },
      "source": [
        "The ResNet model is fully connected (fc) to the final layer with 512 as ``in_features``, we will train the regression, so ``out_features`` as 1\n",
        "\n",
        "Finally, we transfer the model to the GPU for execution."
      ]
    },
    {
      "cell_type": "code",
      "metadata": {
        "id": "nfG-z5nnXVMV",
        "colab_type": "code",
        "colab": {}
      },
      "source": [
        "model.fc = torch.nn.Linear(512, 2)\n",
        "device = torch.device('cuda')\n",
        "model = model.to(device)"
      ],
      "execution_count": null,
      "outputs": []
    },
    {
      "cell_type": "markdown",
      "metadata": {
        "id": "HsHkVdycXVMX",
        "colab_type": "text"
      },
      "source": [
        "# Train Regression\n",
        "\n",
        "We have trained 50 times. If there is a loss reduction situation, we will save the best model:"
      ]
    },
    {
      "cell_type": "code",
      "metadata": {
        "id": "vZZyIz7WXVMY",
        "colab_type": "code",
        "colab": {}
      },
      "source": [
        "# NUM_EPOCHS = 70\n",
        "NUM_EPOCHS = 50\n",
        "BEST_MODEL_PATH = 'best_steering_model_xy.pth'\n",
        "best_loss = 1e9\n",
        "\n",
        "optimizer = optim.Adam(model.parameters())\n",
        "\n",
        "for epoch in range(NUM_EPOCHS):\n",
        "    \n",
        "    model.train()\n",
        "    train_loss = 0.0\n",
        "    for images, labels in iter(train_loader):\n",
        "        images = images.to(device)\n",
        "        labels = labels.to(device)\n",
        "        optimizer.zero_grad()\n",
        "        outputs = model(images)\n",
        "        loss = F.mse_loss(outputs, labels)\n",
        "        train_loss += loss\n",
        "        loss.backward()\n",
        "        optimizer.step()\n",
        "    train_loss /= len(train_loader)\n",
        "    \n",
        "    model.eval()\n",
        "    test_loss = 0.0\n",
        "    for images, labels in iter(test_loader):\n",
        "        images = images.to(device)\n",
        "        labels = labels.to(device)\n",
        "        outputs = model(images)\n",
        "        loss = F.mse_loss(outputs, labels)\n",
        "        test_loss += loss\n",
        "    test_loss /= len(test_loader)\n",
        "    \n",
        "    print('%f, %f' % (train_loss, test_loss))\n",
        "    if test_loss < best_loss:\n",
        "        torch.save(model.state_dict(), BEST_MODEL_PATH)\n",
        "        best_loss = test_loss"
      ],
      "execution_count": null,
      "outputs": []
    },
    {
      "cell_type": "markdown",
      "metadata": {
        "id": "ro5S9KPFXVMa",
        "colab_type": "text"
      },
      "source": [
        "Once the model is trained, it will generate a ``best_steering_model_xy.pth`` file, that will be used for self driving project"
      ]
    }
  ]
}